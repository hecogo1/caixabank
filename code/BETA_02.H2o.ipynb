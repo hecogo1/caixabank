{
 "cells": [
  {
   "cell_type": "code",
   "execution_count": 1,
   "metadata": {},
   "outputs": [],
   "source": [
    "#packages\n",
    "import pandas as pd\n",
    "import h2o\n",
    "from h2o.automl import H2OAutoML\n",
    "from sklearn.model_selection import train_test_split"
   ]
  },
  {
   "cell_type": "code",
   "execution_count": 16,
   "metadata": {},
   "outputs": [],
   "source": [
    "%store -r data_frame_credito\n",
    "data_frame = data_frame_credito.copy()"
   ]
  },
  {
   "cell_type": "code",
   "execution_count": 17,
   "metadata": {},
   "outputs": [],
   "source": [
    "# getting ready x and y variables\n",
    "x = data_frame.drop(['ID','SalePrice'],axis=1)\n",
    "y = data_frame.SalePrice\n",
    "\n",
    "# train test split\n",
    "x_train, x_test, y_train, y_test = train_test_split(x, y, test_size = 0.33, random_state = 42)"
   ]
  },
  {
   "cell_type": "code",
   "execution_count": 18,
   "metadata": {},
   "outputs": [
    {
     "data": {
      "text/html": [
       "<div>\n",
       "<style scoped>\n",
       "    .dataframe tbody tr th:only-of-type {\n",
       "        vertical-align: middle;\n",
       "    }\n",
       "\n",
       "    .dataframe tbody tr th {\n",
       "        vertical-align: top;\n",
       "    }\n",
       "\n",
       "    .dataframe thead th {\n",
       "        text-align: right;\n",
       "    }\n",
       "</style>\n",
       "<table border=\"1\" class=\"dataframe\">\n",
       "  <thead>\n",
       "    <tr style=\"text-align: right;\">\n",
       "      <th></th>\n",
       "      <th>CODE_GENDER</th>\n",
       "      <th>FLAG_OWN_CAR</th>\n",
       "      <th>FLAG_OWN_REALTY</th>\n",
       "      <th>CNT_CHILDREN</th>\n",
       "      <th>AMT_INCOME_TOTAL</th>\n",
       "      <th>NAME_INCOME_TYPE</th>\n",
       "      <th>NAME_EDUCATION_TYPE</th>\n",
       "      <th>NAME_FAMILY_STATUS</th>\n",
       "      <th>NAME_HOUSING_TYPE</th>\n",
       "      <th>DAYS_BIRTH</th>\n",
       "      <th>DAYS_EMPLOYED</th>\n",
       "      <th>FLAG_WORK_PHONE</th>\n",
       "      <th>FLAG_PHONE</th>\n",
       "      <th>FLAG_EMAIL</th>\n",
       "      <th>OCCUPATION_TYPE</th>\n",
       "      <th>CNT_FAM_MEMBERS</th>\n",
       "    </tr>\n",
       "  </thead>\n",
       "  <tbody>\n",
       "    <tr>\n",
       "      <th>8665</th>\n",
       "      <td>1</td>\n",
       "      <td>1</td>\n",
       "      <td>0</td>\n",
       "      <td>1</td>\n",
       "      <td>238500.0</td>\n",
       "      <td>4</td>\n",
       "      <td>1</td>\n",
       "      <td>1</td>\n",
       "      <td>5</td>\n",
       "      <td>-11384</td>\n",
       "      <td>-1965</td>\n",
       "      <td>1</td>\n",
       "      <td>1</td>\n",
       "      <td>0</td>\n",
       "      <td>4</td>\n",
       "      <td>3.0</td>\n",
       "    </tr>\n",
       "    <tr>\n",
       "      <th>43223</th>\n",
       "      <td>0</td>\n",
       "      <td>0</td>\n",
       "      <td>0</td>\n",
       "      <td>1</td>\n",
       "      <td>112500.0</td>\n",
       "      <td>4</td>\n",
       "      <td>1</td>\n",
       "      <td>1</td>\n",
       "      <td>1</td>\n",
       "      <td>-10853</td>\n",
       "      <td>-287</td>\n",
       "      <td>0</td>\n",
       "      <td>0</td>\n",
       "      <td>1</td>\n",
       "      <td>3</td>\n",
       "      <td>3.0</td>\n",
       "    </tr>\n",
       "    <tr>\n",
       "      <th>15733</th>\n",
       "      <td>1</td>\n",
       "      <td>0</td>\n",
       "      <td>1</td>\n",
       "      <td>0</td>\n",
       "      <td>30150.0</td>\n",
       "      <td>1</td>\n",
       "      <td>3</td>\n",
       "      <td>1</td>\n",
       "      <td>1</td>\n",
       "      <td>-23770</td>\n",
       "      <td>365243</td>\n",
       "      <td>0</td>\n",
       "      <td>0</td>\n",
       "      <td>0</td>\n",
       "      <td>18</td>\n",
       "      <td>2.0</td>\n",
       "    </tr>\n",
       "    <tr>\n",
       "      <th>30840</th>\n",
       "      <td>0</td>\n",
       "      <td>1</td>\n",
       "      <td>1</td>\n",
       "      <td>0</td>\n",
       "      <td>256500.0</td>\n",
       "      <td>0</td>\n",
       "      <td>4</td>\n",
       "      <td>1</td>\n",
       "      <td>1</td>\n",
       "      <td>-13821</td>\n",
       "      <td>-1071</td>\n",
       "      <td>0</td>\n",
       "      <td>0</td>\n",
       "      <td>1</td>\n",
       "      <td>3</td>\n",
       "      <td>2.0</td>\n",
       "    </tr>\n",
       "    <tr>\n",
       "      <th>13830</th>\n",
       "      <td>1</td>\n",
       "      <td>1</td>\n",
       "      <td>0</td>\n",
       "      <td>0</td>\n",
       "      <td>225000.0</td>\n",
       "      <td>4</td>\n",
       "      <td>4</td>\n",
       "      <td>1</td>\n",
       "      <td>1</td>\n",
       "      <td>-9479</td>\n",
       "      <td>-1143</td>\n",
       "      <td>0</td>\n",
       "      <td>0</td>\n",
       "      <td>0</td>\n",
       "      <td>8</td>\n",
       "      <td>2.0</td>\n",
       "    </tr>\n",
       "  </tbody>\n",
       "</table>\n",
       "</div>"
      ],
      "text/plain": [
       "       CODE_GENDER  FLAG_OWN_CAR  FLAG_OWN_REALTY  CNT_CHILDREN  \\\n",
       "8665             1             1                0             1   \n",
       "43223            0             0                0             1   \n",
       "15733            1             0                1             0   \n",
       "30840            0             1                1             0   \n",
       "13830            1             1                0             0   \n",
       "\n",
       "       AMT_INCOME_TOTAL  NAME_INCOME_TYPE  NAME_EDUCATION_TYPE  \\\n",
       "8665           238500.0                 4                    1   \n",
       "43223          112500.0                 4                    1   \n",
       "15733           30150.0                 1                    3   \n",
       "30840          256500.0                 0                    4   \n",
       "13830          225000.0                 4                    4   \n",
       "\n",
       "       NAME_FAMILY_STATUS  NAME_HOUSING_TYPE  DAYS_BIRTH  DAYS_EMPLOYED  \\\n",
       "8665                    1                  5      -11384          -1965   \n",
       "43223                   1                  1      -10853           -287   \n",
       "15733                   1                  1      -23770         365243   \n",
       "30840                   1                  1      -13821          -1071   \n",
       "13830                   1                  1       -9479          -1143   \n",
       "\n",
       "       FLAG_WORK_PHONE  FLAG_PHONE  FLAG_EMAIL  OCCUPATION_TYPE  \\\n",
       "8665                 1           1           0                4   \n",
       "43223                0           0           1                3   \n",
       "15733                0           0           0               18   \n",
       "30840                0           0           1                3   \n",
       "13830                0           0           0                8   \n",
       "\n",
       "       CNT_FAM_MEMBERS  \n",
       "8665               3.0  \n",
       "43223              3.0  \n",
       "15733              2.0  \n",
       "30840              2.0  \n",
       "13830              2.0  "
      ]
     },
     "execution_count": 18,
     "metadata": {},
     "output_type": "execute_result"
    }
   ],
   "source": [
    "x_train.head"
   ]
  },
  {
   "cell_type": "code",
   "execution_count": 9,
   "metadata": {},
   "outputs": [
    {
     "name": "stdout",
     "output_type": "stream",
     "text": [
      "Checking whether there is an H2O instance running at http://localhost:54321 ..... not found.\n",
      "Attempting to start a local H2O server...\n",
      "  Java Version: openjdk version \"1.8.0_345\"; OpenJDK Runtime Environment (Zulu 8.64.0.19-CA-macos-aarch64) (build 1.8.0_345-b01); OpenJDK 64-Bit Server VM (Zulu 8.64.0.19-CA-macos-aarch64) (build 25.345-b01, mixed mode)\n",
      "  Starting server from /Users/hectorcozar/Documents/GitHub/caixabank/venv/lib/python3.9/site-packages/h2o/backend/bin/h2o.jar\n",
      "  Ice root: /var/folders/yj/nrb4536x26s8lfxkz_6kzf100000gn/T/tmpow0slsg7\n",
      "  JVM stdout: /var/folders/yj/nrb4536x26s8lfxkz_6kzf100000gn/T/tmpow0slsg7/h2o_hectorcozar_started_from_python.out\n",
      "  JVM stderr: /var/folders/yj/nrb4536x26s8lfxkz_6kzf100000gn/T/tmpow0slsg7/h2o_hectorcozar_started_from_python.err\n",
      "  Server is running at http://127.0.0.1:54321\n",
      "Connecting to H2O server at http://127.0.0.1:54321 ... successful.\n",
      "Warning: Your H2O cluster version is too old (2 years, 4 months and 12 days)! Please download and install the latest version from http://h2o.ai/download/\n"
     ]
    },
    {
     "data": {
      "text/html": [
       "<div style=\"overflow:auto\"><table style=\"width:50%\"><tr><td>H2O_cluster_uptime:</td>\n",
       "<td>02 secs</td></tr>\n",
       "<tr><td>H2O_cluster_timezone:</td>\n",
       "<td>Europe/Madrid</td></tr>\n",
       "<tr><td>H2O_data_parsing_timezone:</td>\n",
       "<td>UTC</td></tr>\n",
       "<tr><td>H2O_cluster_version:</td>\n",
       "<td>3.30.0.4</td></tr>\n",
       "<tr><td>H2O_cluster_version_age:</td>\n",
       "<td>2 years, 4 months and 12 days !!!</td></tr>\n",
       "<tr><td>H2O_cluster_name:</td>\n",
       "<td>H2O_from_python_hectorcozar_d09yba</td></tr>\n",
       "<tr><td>H2O_cluster_total_nodes:</td>\n",
       "<td>1</td></tr>\n",
       "<tr><td>H2O_cluster_free_memory:</td>\n",
       "<td>8.89 Gb</td></tr>\n",
       "<tr><td>H2O_cluster_total_cores:</td>\n",
       "<td>10</td></tr>\n",
       "<tr><td>H2O_cluster_allowed_cores:</td>\n",
       "<td>10</td></tr>\n",
       "<tr><td>H2O_cluster_status:</td>\n",
       "<td>accepting new members, healthy</td></tr>\n",
       "<tr><td>H2O_connection_url:</td>\n",
       "<td>http://127.0.0.1:54321</td></tr>\n",
       "<tr><td>H2O_connection_proxy:</td>\n",
       "<td>{\"http\": null, \"https\": null}</td></tr>\n",
       "<tr><td>H2O_internal_security:</td>\n",
       "<td>False</td></tr>\n",
       "<tr><td>H2O_API_Extensions:</td>\n",
       "<td>Amazon S3, Algos, AutoML, Core V3, TargetEncoder, Core V4</td></tr>\n",
       "<tr><td>Python_version:</td>\n",
       "<td>3.9.12 final</td></tr></table></div>"
      ],
      "text/plain": [
       "--------------------------  ---------------------------------------------------------\n",
       "H2O_cluster_uptime:         02 secs\n",
       "H2O_cluster_timezone:       Europe/Madrid\n",
       "H2O_data_parsing_timezone:  UTC\n",
       "H2O_cluster_version:        3.30.0.4\n",
       "H2O_cluster_version_age:    2 years, 4 months and 12 days !!!\n",
       "H2O_cluster_name:           H2O_from_python_hectorcozar_d09yba\n",
       "H2O_cluster_total_nodes:    1\n",
       "H2O_cluster_free_memory:    8.89 Gb\n",
       "H2O_cluster_total_cores:    10\n",
       "H2O_cluster_allowed_cores:  10\n",
       "H2O_cluster_status:         accepting new members, healthy\n",
       "H2O_connection_url:         http://127.0.0.1:54321\n",
       "H2O_connection_proxy:       {\"http\": null, \"https\": null}\n",
       "H2O_internal_security:      False\n",
       "H2O_API_Extensions:         Amazon S3, Algos, AutoML, Core V3, TargetEncoder, Core V4\n",
       "Python_version:             3.9.12 final\n",
       "--------------------------  ---------------------------------------------------------"
      ]
     },
     "metadata": {},
     "output_type": "display_data"
    }
   ],
   "source": [
    "#starting h2o\n",
    "h2o.init(max_mem_size= '10G')"
   ]
  },
  {
   "cell_type": "code",
   "execution_count": 10,
   "metadata": {},
   "outputs": [
    {
     "name": "stdout",
     "output_type": "stream",
     "text": [
      "Parse progress: |█████████████████████████████████████████████████████████| 100%\n",
      "Parse progress: |█████████████████████████████████████████████████████████| 100%\n"
     ]
    }
   ],
   "source": [
    "# # loading data as h2o object\n",
    "# df = h2o.import_file(path = '../data/train.csv')\n",
    "# df_sample = h2o.import_file(path = '../data/test.csv')\n",
    "\n",
    "df = h2o.H2OFrame(x_train)\n",
    "df_test = h2o.H2OFrame(x_test)\n"
   ]
  },
  {
   "cell_type": "code",
   "execution_count": 11,
   "metadata": {},
   "outputs": [
    {
     "name": "stdout",
     "output_type": "stream",
     "text": [
      "Rows:24426\n",
      "Cols:16\n",
      "\n",
      "Chunk compression summary: \n"
     ]
    },
    {
     "data": {
      "text/html": [
       "<div>\n",
       "<style scoped>\n",
       "    .dataframe tbody tr th:only-of-type {\n",
       "        vertical-align: middle;\n",
       "    }\n",
       "\n",
       "    .dataframe tbody tr th {\n",
       "        vertical-align: top;\n",
       "    }\n",
       "\n",
       "    .dataframe thead th {\n",
       "        text-align: right;\n",
       "    }\n",
       "</style>\n",
       "<table border=\"1\" class=\"dataframe\">\n",
       "  <thead>\n",
       "    <tr style=\"text-align: right;\">\n",
       "      <th></th>\n",
       "      <th>chunk_type</th>\n",
       "      <th>chunk_name</th>\n",
       "      <th>count</th>\n",
       "      <th>count_percentage</th>\n",
       "      <th>size</th>\n",
       "      <th>size_percentage</th>\n",
       "    </tr>\n",
       "  </thead>\n",
       "  <tbody>\n",
       "    <tr>\n",
       "      <th>0</th>\n",
       "      <td>CBS</td>\n",
       "      <td>Binary</td>\n",
       "      <td>5</td>\n",
       "      <td>31.25</td>\n",
       "      <td>15.3 KB</td>\n",
       "      <td>3.582076</td>\n",
       "    </tr>\n",
       "    <tr>\n",
       "      <th>1</th>\n",
       "      <td>CXI</td>\n",
       "      <td>Sparse Integers</td>\n",
       "      <td>1</td>\n",
       "      <td>6.25</td>\n",
       "      <td>4.4 KB</td>\n",
       "      <td>1.032427</td>\n",
       "    </tr>\n",
       "    <tr>\n",
       "      <th>2</th>\n",
       "      <td>C1N</td>\n",
       "      <td>1-Byte Integers (w/o NAs)</td>\n",
       "      <td>7</td>\n",
       "      <td>43.75</td>\n",
       "      <td>167.4 KB</td>\n",
       "      <td>39.319820</td>\n",
       "    </tr>\n",
       "    <tr>\n",
       "      <th>3</th>\n",
       "      <td>C2</td>\n",
       "      <td>2-Byte Integers</td>\n",
       "      <td>1</td>\n",
       "      <td>6.25</td>\n",
       "      <td>47.8 KB</td>\n",
       "      <td>11.218639</td>\n",
       "    </tr>\n",
       "    <tr>\n",
       "      <th>4</th>\n",
       "      <td>C4</td>\n",
       "      <td>4-Byte Integers</td>\n",
       "      <td>1</td>\n",
       "      <td>6.25</td>\n",
       "      <td>95.5 KB</td>\n",
       "      <td>22.421684</td>\n",
       "    </tr>\n",
       "    <tr>\n",
       "      <th>5</th>\n",
       "      <td>C4S</td>\n",
       "      <td>4-Byte Fractions</td>\n",
       "      <td>1</td>\n",
       "      <td>6.25</td>\n",
       "      <td>95.5 KB</td>\n",
       "      <td>22.425356</td>\n",
       "    </tr>\n",
       "  </tbody>\n",
       "</table>\n",
       "</div>"
      ],
      "text/plain": [
       "  chunk_type                 chunk_name  count  count_percentage        size  \\\n",
       "0        CBS                     Binary      5             31.25     15.3 KB   \n",
       "1        CXI            Sparse Integers      1              6.25      4.4 KB   \n",
       "2        C1N  1-Byte Integers (w/o NAs)      7             43.75    167.4 KB   \n",
       "3         C2            2-Byte Integers      1              6.25     47.8 KB   \n",
       "4         C4            4-Byte Integers      1              6.25     95.5 KB   \n",
       "5        C4S           4-Byte Fractions      1              6.25     95.5 KB   \n",
       "\n",
       "   size_percentage  \n",
       "0         3.582076  \n",
       "1         1.032427  \n",
       "2        39.319820  \n",
       "3        11.218639  \n",
       "4        22.421684  \n",
       "5        22.425356  "
      ]
     },
     "metadata": {},
     "output_type": "display_data"
    },
    {
     "name": "stdout",
     "output_type": "stream",
     "text": [
      "\n",
      "Frame distribution summary: \n"
     ]
    },
    {
     "data": {
      "text/html": [
       "<div>\n",
       "<style scoped>\n",
       "    .dataframe tbody tr th:only-of-type {\n",
       "        vertical-align: middle;\n",
       "    }\n",
       "\n",
       "    .dataframe tbody tr th {\n",
       "        vertical-align: top;\n",
       "    }\n",
       "\n",
       "    .dataframe thead th {\n",
       "        text-align: right;\n",
       "    }\n",
       "</style>\n",
       "<table border=\"1\" class=\"dataframe\">\n",
       "  <thead>\n",
       "    <tr style=\"text-align: right;\">\n",
       "      <th></th>\n",
       "      <th></th>\n",
       "      <th>size</th>\n",
       "      <th>number_of_rows</th>\n",
       "      <th>number_of_chunks_per_column</th>\n",
       "      <th>number_of_chunks</th>\n",
       "    </tr>\n",
       "  </thead>\n",
       "  <tbody>\n",
       "    <tr>\n",
       "      <th>0</th>\n",
       "      <td>127.0.0.1:54321</td>\n",
       "      <td>425.8 KB</td>\n",
       "      <td>24426.0</td>\n",
       "      <td>1.0</td>\n",
       "      <td>16.0</td>\n",
       "    </tr>\n",
       "    <tr>\n",
       "      <th>1</th>\n",
       "      <td>mean</td>\n",
       "      <td>425.8 KB</td>\n",
       "      <td>24426.0</td>\n",
       "      <td>1.0</td>\n",
       "      <td>16.0</td>\n",
       "    </tr>\n",
       "    <tr>\n",
       "      <th>2</th>\n",
       "      <td>min</td>\n",
       "      <td>425.8 KB</td>\n",
       "      <td>24426.0</td>\n",
       "      <td>1.0</td>\n",
       "      <td>16.0</td>\n",
       "    </tr>\n",
       "    <tr>\n",
       "      <th>3</th>\n",
       "      <td>max</td>\n",
       "      <td>425.8 KB</td>\n",
       "      <td>24426.0</td>\n",
       "      <td>1.0</td>\n",
       "      <td>16.0</td>\n",
       "    </tr>\n",
       "    <tr>\n",
       "      <th>4</th>\n",
       "      <td>stddev</td>\n",
       "      <td>0  B</td>\n",
       "      <td>0.0</td>\n",
       "      <td>0.0</td>\n",
       "      <td>0.0</td>\n",
       "    </tr>\n",
       "    <tr>\n",
       "      <th>5</th>\n",
       "      <td>total</td>\n",
       "      <td>425.8 KB</td>\n",
       "      <td>24426.0</td>\n",
       "      <td>1.0</td>\n",
       "      <td>16.0</td>\n",
       "    </tr>\n",
       "  </tbody>\n",
       "</table>\n",
       "</div>"
      ],
      "text/plain": [
       "                          size  number_of_rows  number_of_chunks_per_column  \\\n",
       "0  127.0.0.1:54321    425.8 KB         24426.0                          1.0   \n",
       "1             mean    425.8 KB         24426.0                          1.0   \n",
       "2              min    425.8 KB         24426.0                          1.0   \n",
       "3              max    425.8 KB         24426.0                          1.0   \n",
       "4           stddev        0  B             0.0                          0.0   \n",
       "5            total    425.8 KB         24426.0                          1.0   \n",
       "\n",
       "   number_of_chunks  \n",
       "0              16.0  \n",
       "1              16.0  \n",
       "2              16.0  \n",
       "3              16.0  \n",
       "4               0.0  \n",
       "5              16.0  "
      ]
     },
     "metadata": {},
     "output_type": "display_data"
    },
    {
     "name": "stdout",
     "output_type": "stream",
     "text": [
      "\n",
      "\n"
     ]
    },
    {
     "data": {
      "text/html": [
       "<table>\n",
       "<thead>\n",
       "<tr><th>       </th><th>CODE_GENDER       </th><th>FLAG_OWN_CAR       </th><th>FLAG_OWN_REALTY   </th><th>CNT_CHILDREN      </th><th>AMT_INCOME_TOTAL  </th><th>NAME_INCOME_TYPE  </th><th>NAME_EDUCATION_TYPE  </th><th>NAME_FAMILY_STATUS  </th><th>NAME_HOUSING_TYPE  </th><th>DAYS_BIRTH         </th><th>DAYS_EMPLOYED     </th><th>FLAG_WORK_PHONE    </th><th>FLAG_PHONE        </th><th>FLAG_EMAIL         </th><th>OCCUPATION_TYPE   </th><th>CNT_FAM_MEMBERS   </th></tr>\n",
       "</thead>\n",
       "<tbody>\n",
       "<tr><td>type   </td><td>int               </td><td>int                </td><td>int               </td><td>int               </td><td>real              </td><td>int               </td><td>int                  </td><td>int                 </td><td>int                </td><td>int                </td><td>int               </td><td>int                </td><td>int               </td><td>int                </td><td>int               </td><td>int               </td></tr>\n",
       "<tr><td>mins   </td><td>0.0               </td><td>0.0                </td><td>0.0               </td><td>0.0               </td><td>27000.0           </td><td>0.0               </td><td>0.0                  </td><td>0.0                 </td><td>0.0                </td><td>-25152.0           </td><td>-15713.0          </td><td>0.0                </td><td>0.0               </td><td>0.0                </td><td>0.0               </td><td>1.0               </td></tr>\n",
       "<tr><td>mean   </td><td>0.3286661753868828</td><td>0.37779415377057235</td><td>0.6729714238925735</td><td>0.4318758699746192</td><td>187213.64756816547</td><td>2.3951936461148073</td><td>3.0889216408744766   </td><td>1.3688692376975449  </td><td>1.2784737574715423 </td><td>-15983.868214198068</td><td>59794.602186194745</td><td>0.2246786211414067 </td><td>0.2955866699418652</td><td>0.09060018013592074</td><td>10.911078359125469</td><td>2.199991812003607 </td></tr>\n",
       "<tr><td>maxs   </td><td>1.0               </td><td>1.0                </td><td>1.0               </td><td>19.0              </td><td>1575000.0         </td><td>4.0               </td><td>4.0                  </td><td>4.0                 </td><td>5.0                </td><td>-7705.0            </td><td>365243.0          </td><td>1.0                </td><td>1.0               </td><td>1.0                </td><td>18.0              </td><td>20.0              </td></tr>\n",
       "<tr><td>sigma  </td><td>0.4697379632349932</td><td>0.48484570239216707</td><td>0.4691373967112342</td><td>0.7428166111600225</td><td>102279.5349979874 </td><td>1.7330338055854833</td><td>1.3447172836772383   </td><td>0.9531177771758774  </td><td>0.9439094534771346 </td><td>4202.766901200345  </td><td>138127.49604802876</td><td>0.41737904871235587</td><td>0.4563153681059759</td><td>0.28704557260417096</td><td>5.96157900605933  </td><td>0.9129577832273922</td></tr>\n",
       "<tr><td>zeros  </td><td>16398             </td><td>15198              </td><td>7988              </td><td>16874             </td><td>0                 </td><td>5676              </td><td>22                   </td><td>1940                </td><td>108                </td><td>0                  </td><td>0                 </td><td>18938              </td><td>17206             </td><td>22213              </td><td>816               </td><td>0                 </td></tr>\n",
       "<tr><td>missing</td><td>0                 </td><td>0                  </td><td>0                 </td><td>0                 </td><td>0                 </td><td>0                 </td><td>0                    </td><td>0                   </td><td>0                  </td><td>0                  </td><td>0                 </td><td>0                  </td><td>0                 </td><td>0                  </td><td>0                 </td><td>0                 </td></tr>\n",
       "<tr><td>0      </td><td>1.0               </td><td>1.0                </td><td>0.0               </td><td>1.0               </td><td>238500.0          </td><td>4.0               </td><td>1.0                  </td><td>1.0                 </td><td>5.0                </td><td>-11384.0           </td><td>-1965.0           </td><td>1.0                </td><td>1.0               </td><td>0.0                </td><td>4.0               </td><td>3.0               </td></tr>\n",
       "<tr><td>1      </td><td>0.0               </td><td>0.0                </td><td>0.0               </td><td>1.0               </td><td>112500.0          </td><td>4.0               </td><td>1.0                  </td><td>1.0                 </td><td>1.0                </td><td>-10853.0           </td><td>-287.0            </td><td>0.0                </td><td>0.0               </td><td>1.0                </td><td>3.0               </td><td>3.0               </td></tr>\n",
       "<tr><td>2      </td><td>1.0               </td><td>0.0                </td><td>1.0               </td><td>0.0               </td><td>30150.0           </td><td>1.0               </td><td>3.0                  </td><td>1.0                 </td><td>1.0                </td><td>-23770.0           </td><td>365243.0          </td><td>0.0                </td><td>0.0               </td><td>0.0                </td><td>18.0              </td><td>2.0               </td></tr>\n",
       "<tr><td>3      </td><td>0.0               </td><td>1.0                </td><td>1.0               </td><td>0.0               </td><td>256500.0          </td><td>0.0               </td><td>4.0                  </td><td>1.0                 </td><td>1.0                </td><td>-13821.0           </td><td>-1071.0           </td><td>0.0                </td><td>0.0               </td><td>1.0                </td><td>3.0               </td><td>2.0               </td></tr>\n",
       "<tr><td>4      </td><td>1.0               </td><td>1.0                </td><td>0.0               </td><td>0.0               </td><td>225000.0          </td><td>4.0               </td><td>4.0                  </td><td>1.0                 </td><td>1.0                </td><td>-9479.0            </td><td>-1143.0           </td><td>0.0                </td><td>0.0               </td><td>0.0                </td><td>8.0               </td><td>2.0               </td></tr>\n",
       "<tr><td>5      </td><td>0.0               </td><td>1.0                </td><td>1.0               </td><td>0.0               </td><td>463500.0          </td><td>4.0               </td><td>1.0                  </td><td>1.0                 </td><td>1.0                </td><td>-20848.0           </td><td>-4090.0           </td><td>1.0                </td><td>1.0               </td><td>0.0                </td><td>10.0              </td><td>2.0               </td></tr>\n",
       "<tr><td>6      </td><td>0.0               </td><td>0.0                </td><td>1.0               </td><td>0.0               </td><td>189000.0          </td><td>1.0               </td><td>4.0                  </td><td>1.0                 </td><td>1.0                </td><td>-23086.0           </td><td>365243.0          </td><td>0.0                </td><td>0.0               </td><td>0.0                </td><td>18.0              </td><td>2.0               </td></tr>\n",
       "<tr><td>7      </td><td>0.0               </td><td>0.0                </td><td>1.0               </td><td>0.0               </td><td>202500.0          </td><td>4.0               </td><td>4.0                  </td><td>1.0                 </td><td>1.0                </td><td>-15929.0           </td><td>-2879.0           </td><td>0.0                </td><td>1.0               </td><td>0.0                </td><td>8.0               </td><td>2.0               </td></tr>\n",
       "<tr><td>8      </td><td>0.0               </td><td>1.0                </td><td>1.0               </td><td>1.0               </td><td>135000.0          </td><td>0.0               </td><td>4.0                  </td><td>1.0                 </td><td>1.0                </td><td>-11159.0           </td><td>-856.0            </td><td>0.0                </td><td>0.0               </td><td>0.0                </td><td>14.0              </td><td>3.0               </td></tr>\n",
       "<tr><td>9      </td><td>0.0               </td><td>0.0                </td><td>1.0               </td><td>0.0               </td><td>121500.0          </td><td>1.0               </td><td>4.0                  </td><td>1.0                 </td><td>1.0                </td><td>-20911.0           </td><td>365243.0          </td><td>0.0                </td><td>0.0               </td><td>0.0                </td><td>18.0              </td><td>2.0               </td></tr>\n",
       "</tbody>\n",
       "</table>"
      ]
     },
     "metadata": {},
     "output_type": "display_data"
    }
   ],
   "source": [
    "#describe dataset\n",
    "df.describe(chunk_summary=True)"
   ]
  },
  {
   "cell_type": "code",
   "execution_count": 12,
   "metadata": {},
   "outputs": [],
   "source": [
    "# split data in train and test\n",
    "train, test = df.split_frame(ratios=[0.8], seed = 1)\n",
    "\n",
    "# train = df"
   ]
  },
  {
   "cell_type": "code",
   "execution_count": 14,
   "metadata": {},
   "outputs": [],
   "source": [
    "#automl\n",
    "aml = H2OAutoML(#max_models = 10000,\n",
    "                max_runtime_secs = 1800,  #if not set it's 1 hour\n",
    "                balance_classes = True,\n",
    "\t\tseed = 1,\n",
    "                sort_metric = \"AUC\")"
   ]
  },
  {
   "cell_type": "code",
   "execution_count": 15,
   "metadata": {},
   "outputs": [
    {
     "ename": "H2OValueError",
     "evalue": "Column TARGET does not exist in the training frame",
     "output_type": "error",
     "traceback": [
      "\u001b[0;31m---------------------------------------------------------------------------\u001b[0m",
      "\u001b[0;31mH2OValueError\u001b[0m                             Traceback (most recent call last)",
      "Cell \u001b[0;32mIn [15], line 4\u001b[0m\n\u001b[1;32m      1\u001b[0m \u001b[39m# start training\u001b[39;00m\n\u001b[1;32m      2\u001b[0m \u001b[39m# my leader board frame could be ROC AUC, Precision, Recall, F1, Accuracy, Gains/Lift. \u001b[39;00m\n\u001b[1;32m      3\u001b[0m \u001b[39m# Otherwise the best cross validation model would be chose\u001b[39;00m\n\u001b[0;32m----> 4\u001b[0m aml\u001b[39m.\u001b[39mtrain(training_frame \u001b[39m=\u001b[39m train, y \u001b[39m=\u001b[39m \u001b[39m'\u001b[39m\u001b[39mTARGET\u001b[39m\u001b[39m'\u001b[39m)\n",
      "File \u001b[0;32m~/Documents/GitHub/caixabank/venv/lib/python3.9/site-packages/h2o/automl/autoh2o.py:402\u001b[0m, in \u001b[0;36mH2OAutoML.train\u001b[0;34m(self, x, y, training_frame, fold_column, weights_column, validation_frame, leaderboard_frame, blending_frame)\u001b[0m\n\u001b[1;32m    400\u001b[0m     \u001b[39melse\u001b[39;00m:\n\u001b[1;32m    401\u001b[0m         \u001b[39mif\u001b[39;00m y \u001b[39mnot\u001b[39;00m \u001b[39min\u001b[39;00m names:\n\u001b[0;32m--> 402\u001b[0m             \u001b[39mraise\u001b[39;00m H2OValueError(\u001b[39m\"\u001b[39m\u001b[39mColumn \u001b[39m\u001b[39m%s\u001b[39;00m\u001b[39m does not exist in the training frame\u001b[39m\u001b[39m\"\u001b[39m \u001b[39m%\u001b[39m y)\n\u001b[1;32m    403\u001b[0m     \u001b[39mself\u001b[39m\u001b[39m.\u001b[39minput_spec[\u001b[39m'\u001b[39m\u001b[39mresponse_column\u001b[39m\u001b[39m'\u001b[39m] \u001b[39m=\u001b[39m y\n\u001b[1;32m    406\u001b[0m assert_is_type(fold_column, \u001b[39mNone\u001b[39;00m, \u001b[39mint\u001b[39m, \u001b[39mstr\u001b[39m)\n",
      "\u001b[0;31mH2OValueError\u001b[0m: Column TARGET does not exist in the training frame"
     ]
    }
   ],
   "source": [
    "# start training\n",
    "# my leader board frame could be ROC AUC, Precision, Recall, F1, Accuracy, Gains/Lift. \n",
    "# Otherwise the best cross validation model would be chose\n",
    "aml.train(training_frame = train, y = 'TARGET')"
   ]
  },
  {
   "cell_type": "code",
   "execution_count": null,
   "metadata": {},
   "outputs": [],
   "source": [
    "#evaluation\n",
    "lb = aml.leaderboard\n",
    "lb.head(rows=lb.nrows)"
   ]
  },
  {
   "cell_type": "code",
   "execution_count": null,
   "metadata": {},
   "outputs": [],
   "source": [
    "# best model, getting the name and the statistics\n",
    "best_model = aml.leader\n",
    "best_model_name = best_model.model_id\n",
    "print(best_model)"
   ]
  },
  {
   "cell_type": "code",
   "execution_count": 30,
   "metadata": {},
   "outputs": [],
   "source": [
    "#saving the model\n",
    "model_path = h2o.save_model(model = best_model, path = '../models', force = True)"
   ]
  },
  {
   "cell_type": "code",
   "execution_count": 34,
   "metadata": {},
   "outputs": [],
   "source": [
    "#loading the model\n",
    "model = h2o.load_model(path = '../models/' + best_model_name)\n"
   ]
  },
  {
   "cell_type": "code",
   "execution_count": null,
   "metadata": {},
   "outputs": [],
   "source": [
    "#predict and getting data out from h2o\n",
    "predictions = h2o.as_list(model.predict(df_sample))"
   ]
  },
  {
   "cell_type": "code",
   "execution_count": null,
   "metadata": {},
   "outputs": [],
   "source": [
    "#finishing h2o\n",
    "h2o.shutdown()"
   ]
  },
  {
   "cell_type": "code",
   "execution_count": 39,
   "metadata": {},
   "outputs": [],
   "source": [
    "#merging predictions with the full data set\n",
    "submission = pd.merge(test_df['Id'].astype(int),\n",
    "                          predictions,\n",
    "                          left_index = True,\n",
    "                          right_index = True)\n",
    "submission.rename(columns = {'predict': 'SalePrice'}, inplace = True)"
   ]
  },
  {
   "cell_type": "code",
   "execution_count": 40,
   "metadata": {},
   "outputs": [],
   "source": [
    "# save to csv\n",
    "submission.to_csv('../csv_data/submission_' + best_model_name + '.csv',\n",
    "                  header = True, index = False)\n",
    "\n",
    "# 00. Score of 0.12868\n",
    "# 01. Change from 25 max models to 1000. Score of 0.12792\n",
    "# 02. Sorting leaderboard by rmse as the main metric on h2o training. Score of 0.12792 made the same."
   ]
  }
 ],
 "metadata": {
  "kernelspec": {
   "display_name": "Python 3.9.12 ('venv': venv)",
   "language": "python",
   "name": "python3"
  },
  "language_info": {
   "codemirror_mode": {
    "name": "ipython",
    "version": 3
   },
   "file_extension": ".py",
   "mimetype": "text/x-python",
   "name": "python",
   "nbconvert_exporter": "python",
   "pygments_lexer": "ipython3",
   "version": "3.9.12"
  },
  "orig_nbformat": 4,
  "vscode": {
   "interpreter": {
    "hash": "cb428be720cbef48c9348347e6bbe3312fbaf689995a89b2a781b86a7c748942"
   }
  }
 },
 "nbformat": 4,
 "nbformat_minor": 2
}
