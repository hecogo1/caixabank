{
 "cells": [
  {
   "cell_type": "code",
   "execution_count": 1,
   "metadata": {},
   "outputs": [],
   "source": [
    "# General\n",
    "import pandas as pd\n",
    "import numpy as np\n",
    "import matplotlib as mlp\n",
    "import matplotlib.pyplot as plt\n",
    "import seaborn as sns\n",
    "\n",
    "# EDA\n",
    "from pandas_profiling import ProfileReport\n",
    "\n",
    "# With missforest we can use random forest to impute data. This is better than mean by far\n",
    "# to avoid errors on loading missingpy\n",
    "import sys\n",
    "import sklearn.neighbors._base\n",
    "sys.modules['sklearn.neighbors.base'] = sklearn.neighbors._base\n",
    "from missingpy import MissForest\n",
    "\n",
    "# Sklearn\n",
    "from sklearn.model_selection import train_test_split\n",
    "from sklearn.preprocessing import LabelEncoder, OneHotEncoder\n",
    "from sklearn import metrics\n",
    "\n",
    "# Model to apply\n",
    "import xgboost as xgb # need to set manually what variables are categorical\n",
    "\n",
    "# Oversampling\n",
    "from collections import Counter\n",
    "from imblearn.under_sampling import RandomUnderSampler\n",
    "from imblearn.over_sampling import SMOTE\n",
    "\n",
    "# load stored data from data_imputation\n",
    "%store -r data_frame_imputed\n",
    "data_frame = data_frame_imputed.copy()\n",
    "\n",
    "# data from uri\n",
    "%store -r X_train\n",
    "X_train = X_train.copy()\n",
    "%store -r y_train\n",
    "y_train = y_train.copy()\n",
    "\n",
    "%store -r X_test\n",
    "X_test = X_test.copy()\n",
    "%store -r y_test\n",
    "y_test = y_test.copy()\n",
    "\n",
    "%store -r df\n",
    "df = df.copy"
   ]
  },
  {
   "cell_type": "markdown",
   "metadata": {},
   "source": [
    "# Graficos"
   ]
  },
  {
   "cell_type": "code",
   "execution_count": 2,
   "metadata": {},
   "outputs": [],
   "source": [
    "# Gracias por la función para hacer los gráficos José Ángel\n",
    "\n",
    "# Cargo la función para hacer gráficos\n",
    "def proporciones_final (var,target,df):\n",
    "\n",
    "    proporcion = pd.DataFrame()\n",
    "    \n",
    "    proporcion['%depositos'] = df[target].groupby(df[var]).mean()*100\n",
    "    proporcion['Conteo'] = df[target].groupby(df[var]).count()\n",
    "    proporcion= proporcion.round(3)   \n",
    "    proporcion_filtered = proporcion[(proporcion['%depositos']>0) & (proporcion['Conteo']>10)]\n",
    "        \n",
    "    if len(proporcion_filtered)<100 and len(proporcion_filtered)>1:\n",
    "        fig = plt.figure()\n",
    "        ax = proporcion_filtered['Conteo'].plot(kind='bar',grid=True)\n",
    "                \n",
    "        ax2 = ax.twinx()\n",
    "        ax2.plot(proporcion_filtered['%depositos'].values, linestyle='-', linewidth=2.0,color='g')\n",
    "        plt.tight_layout()        \n",
    "    else:        \n",
    "        proporcion_filtered.reset_index(inplace=True)\n",
    "        sns.lmplot(x = var,y ='%depositos',data=proporcion_filtered, fit_reg=True,ci=None)  "
   ]
  },
  {
   "cell_type": "code",
   "execution_count": 3,
   "metadata": {},
   "outputs": [
    {
     "ename": "AttributeError",
     "evalue": "'function' object has no attribute 'merge'",
     "output_type": "error",
     "traceback": [
      "\u001b[0;31m---------------------------------------------------------------------------\u001b[0m",
      "\u001b[0;31mAttributeError\u001b[0m                            Traceback (most recent call last)",
      "Cell \u001b[0;32mIn [3], line 2\u001b[0m\n\u001b[1;32m      1\u001b[0m \u001b[39m# Grafico num lineas\u001b[39;00m\n\u001b[0;32m----> 2\u001b[0m proporciones_final(\u001b[39m'\u001b[39m\u001b[39mnum_lineas\u001b[39m\u001b[39m'\u001b[39m, \u001b[39m'\u001b[39m\u001b[39mtarget\u001b[39m\u001b[39m'\u001b[39m, df\u001b[39m.\u001b[39mmerge(df\u001b[39m.\u001b[39mTARGET, on \u001b[39m=\u001b[39m \u001b[39m'\u001b[39m\u001b[39mid\u001b[39m\u001b[39m'\u001b[39m)\u001b[39m.\u001b[39mdrop(\u001b[39m'\u001b[39m\u001b[39mconjunto\u001b[39m\u001b[39m'\u001b[39m, axis \u001b[39m=\u001b[39m \u001b[39m1\u001b[39m))\n",
      "\u001b[0;31mAttributeError\u001b[0m: 'function' object has no attribute 'merge'"
     ]
    }
   ],
   "source": [
    "# Grafico num lineas\n",
    "proporciones_final('num_lineas', 'target', df.merge(df.TARGET, on = 'id').drop('conjunto', axis = 1))"
   ]
  }
 ],
 "metadata": {
  "kernelspec": {
   "display_name": "Python 3.9.12 ('venv': venv)",
   "language": "python",
   "name": "python3"
  },
  "language_info": {
   "codemirror_mode": {
    "name": "ipython",
    "version": 3
   },
   "file_extension": ".py",
   "mimetype": "text/x-python",
   "name": "python",
   "nbconvert_exporter": "python",
   "pygments_lexer": "ipython3",
   "version": "3.9.12"
  },
  "orig_nbformat": 4,
  "vscode": {
   "interpreter": {
    "hash": "cb428be720cbef48c9348347e6bbe3312fbaf689995a89b2a781b86a7c748942"
   }
  }
 },
 "nbformat": 4,
 "nbformat_minor": 2
}
